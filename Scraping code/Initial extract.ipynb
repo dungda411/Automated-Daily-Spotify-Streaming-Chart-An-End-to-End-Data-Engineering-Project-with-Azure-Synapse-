{
  "nbformat": 4,
  "nbformat_minor": 2,
  "metadata": {
    "language_info": {
      "name": "python"
    },
    "kernelspec": {
      "name": "synapse_pyspark",
      "display_name": "python"
    },
    "description": null,
    "save_output": true,
    "synapse_widget": {
      "version": "0.1",
      "state": {}
    }
  },
  "cells": [
    {
      "cell_type": "code",
      "execution_count": 3,
      "outputs": [
        {
          "output_type": "display_data",
          "data": {
            "application/vnd.livy.statement-meta+json": {
              "spark_pool": "sparkpool",
              "session_id": "6",
              "statement_id": 2,
              "statement_ids": [
                2
              ],
              "state": "finished",
              "livy_statement_state": "available",
              "queued_time": "2024-06-30T00:05:58.1738294Z",
              "session_start_time": "2024-06-30T00:05:58.2189623Z",
              "execution_start_time": "2024-06-30T00:06:58.3465546Z",
              "execution_finish_time": "2024-06-30T00:07:06.9830582Z",
              "spark_jobs": null,
              "parent_msg_id": "46b84495-d66c-484b-b4bd-c8916f5ae480"
            },
            "text/plain": "StatementMeta(sparkpool, 6, 2, Finished, Available)"
          },
          "metadata": {}
        }
      ],
      "metadata": {},
      "source": [
        "from bs4 import BeautifulSoup\n",
        "import requests\n",
        "\n",
        "import re\n",
        "\n",
        "import numpy as np\n",
        "import pandas as pd\n",
        "\n",
        "import base64\n",
        "from requests import post, get\n",
        "\n",
        "import json\n",
        "import time\n",
        "\n",
        "from datetime import datetime\n",
        "\n",
        "import warnings\n",
        "\n",
        "# Suppress all warnings\n",
        "warnings.filterwarnings(\"ignore\")"
      ]
    },
    {
      "cell_type": "markdown",
      "metadata": {
        "nteract": {
          "transient": {
            "deleting": false
          }
        }
      },
      "source": [
        "# **1. Data Scraping**"
      ]
    },
    {
      "cell_type": "markdown",
      "metadata": {
        "nteract": {
          "transient": {
            "deleting": false
          }
        }
      },
      "source": [
        "## **1.1. kworb.net Scraping**"
      ]
    },
    {
      "cell_type": "code",
      "execution_count": 51,
      "outputs": [
        {
          "output_type": "display_data",
          "data": {
            "application/vnd.livy.statement-meta+json": {
              "spark_pool": "sparkpool",
              "session_id": "6",
              "statement_id": 50,
              "statement_ids": [
                50
              ],
              "state": "finished",
              "livy_statement_state": "available",
              "queued_time": "2024-06-30T01:05:08.5740046Z",
              "session_start_time": null,
              "execution_start_time": "2024-06-30T01:05:08.6879093Z",
              "execution_finish_time": "2024-06-30T01:05:09.78869Z",
              "spark_jobs": null,
              "parent_msg_id": "cb8c4b7d-0b42-4e03-b575-079083fb08d0"
            },
            "text/plain": "StatementMeta(sparkpool, 6, 50, Finished, Available)"
          },
          "metadata": {}
        },
        {
          "output_type": "execute_result",
          "data": {
            "text/plain": "                    Song_ID          Lead_Artist_ID  Daily_Stream  \\\n0    2qSkIjg1o9h3YT9RAgYN75  74KM79TiuVKeVCqs8QtB0B       9845584   \n1    5N3hjp1WNayUPZrA8kJmJP  74KM79TiuVKeVCqs8QtB0B       9776098   \n2    6dOtVTDdiauQNBQEDOtlAB  6qqNVTkY8uBg9cP3Jd7DAH       8619920   \n3    1kPhV0KQui1phEpjnWIqUN  1oSPZhvZMIrWW5I41kPkkY       6625387   \n4    6XjDF6nds4DE2BBbagZol6  7CvTknweLr9feJtRGrpDBy       6385692   \n..                      ...                     ...           ...   \n195  3AVrVz5rK8Hrqo9YGiVGN5  1QAJqy2dA3ihHBFIHRphZj       1326745   \n196  5496lks6V3fh1mZAB6IAap  5MraexJKZDrQYzS98kNwie       1322658   \n197  4y1LsJpmMti1PfRQV9AWWe  2BTZIqw0ntH9MvilQ3ewNY       1319085   \n198  3yfqSUWxFvZELEM4PmlwIR  7dGJo4pcD2V6oG8kP0tJRR       1317100   \n199  57bgtoPSgt236HzfBOd8kj  711MCceyCBcFnzjGY4Q7Un       1316557   \n\n     Total_Stream        Extract_Date  \n0       692939277 2024-06-30 01:05:09  \n1       232231734 2024-06-30 01:05:09  \n2       343601388 2024-06-30 01:05:09  \n3         6625387 2024-06-30 01:05:09  \n4       743197603 2024-06-30 01:05:09  \n..            ...                 ...  \n195     877612250 2024-06-30 01:05:09  \n196       1322658 2024-06-30 01:05:09  \n197       3636855 2024-06-30 01:05:09  \n198     878523205 2024-06-30 01:05:09  \n199       2003936 2024-06-30 01:05:09  \n\n[200 rows x 5 columns]",
            "text/html": "<div>\n<style scoped>\n    .dataframe tbody tr th:only-of-type {\n        vertical-align: middle;\n    }\n\n    .dataframe tbody tr th {\n        vertical-align: top;\n    }\n\n    .dataframe thead th {\n        text-align: right;\n    }\n</style>\n<table border=\"1\" class=\"dataframe\">\n  <thead>\n    <tr style=\"text-align: right;\">\n      <th></th>\n      <th>Song_ID</th>\n      <th>Lead_Artist_ID</th>\n      <th>Daily_Stream</th>\n      <th>Total_Stream</th>\n      <th>Extract_Date</th>\n    </tr>\n  </thead>\n  <tbody>\n    <tr>\n      <th>0</th>\n      <td>2qSkIjg1o9h3YT9RAgYN75</td>\n      <td>74KM79TiuVKeVCqs8QtB0B</td>\n      <td>9845584</td>\n      <td>692939277</td>\n      <td>2024-06-30 01:05:09</td>\n    </tr>\n    <tr>\n      <th>1</th>\n      <td>5N3hjp1WNayUPZrA8kJmJP</td>\n      <td>74KM79TiuVKeVCqs8QtB0B</td>\n      <td>9776098</td>\n      <td>232231734</td>\n      <td>2024-06-30 01:05:09</td>\n    </tr>\n    <tr>\n      <th>2</th>\n      <td>6dOtVTDdiauQNBQEDOtlAB</td>\n      <td>6qqNVTkY8uBg9cP3Jd7DAH</td>\n      <td>8619920</td>\n      <td>343601388</td>\n      <td>2024-06-30 01:05:09</td>\n    </tr>\n    <tr>\n      <th>3</th>\n      <td>1kPhV0KQui1phEpjnWIqUN</td>\n      <td>1oSPZhvZMIrWW5I41kPkkY</td>\n      <td>6625387</td>\n      <td>6625387</td>\n      <td>2024-06-30 01:05:09</td>\n    </tr>\n    <tr>\n      <th>4</th>\n      <td>6XjDF6nds4DE2BBbagZol6</td>\n      <td>7CvTknweLr9feJtRGrpDBy</td>\n      <td>6385692</td>\n      <td>743197603</td>\n      <td>2024-06-30 01:05:09</td>\n    </tr>\n    <tr>\n      <th>...</th>\n      <td>...</td>\n      <td>...</td>\n      <td>...</td>\n      <td>...</td>\n      <td>...</td>\n    </tr>\n    <tr>\n      <th>195</th>\n      <td>3AVrVz5rK8Hrqo9YGiVGN5</td>\n      <td>1QAJqy2dA3ihHBFIHRphZj</td>\n      <td>1326745</td>\n      <td>877612250</td>\n      <td>2024-06-30 01:05:09</td>\n    </tr>\n    <tr>\n      <th>196</th>\n      <td>5496lks6V3fh1mZAB6IAap</td>\n      <td>5MraexJKZDrQYzS98kNwie</td>\n      <td>1322658</td>\n      <td>1322658</td>\n      <td>2024-06-30 01:05:09</td>\n    </tr>\n    <tr>\n      <th>197</th>\n      <td>4y1LsJpmMti1PfRQV9AWWe</td>\n      <td>2BTZIqw0ntH9MvilQ3ewNY</td>\n      <td>1319085</td>\n      <td>3636855</td>\n      <td>2024-06-30 01:05:09</td>\n    </tr>\n    <tr>\n      <th>198</th>\n      <td>3yfqSUWxFvZELEM4PmlwIR</td>\n      <td>7dGJo4pcD2V6oG8kP0tJRR</td>\n      <td>1317100</td>\n      <td>878523205</td>\n      <td>2024-06-30 01:05:09</td>\n    </tr>\n    <tr>\n      <th>199</th>\n      <td>57bgtoPSgt236HzfBOd8kj</td>\n      <td>711MCceyCBcFnzjGY4Q7Un</td>\n      <td>1316557</td>\n      <td>2003936</td>\n      <td>2024-06-30 01:05:09</td>\n    </tr>\n  </tbody>\n</table>\n<p>200 rows × 5 columns</p>\n</div>"
          },
          "execution_count": 101,
          "metadata": {}
        }
      ],
      "metadata": {
        "jupyter": {
          "source_hidden": false,
          "outputs_hidden": false
        },
        "nteract": {
          "transient": {
            "deleting": false
          }
        }
      },
      "source": [
        "col_title = ['Song_ID', 'Lead_Artist_ID', 'Daily_Stream', 'Total_Stream', 'Extract_Date']\n",
        "top_200_track_daily = pd.DataFrame(columns = col_title)\n",
        "\n",
        "url = 'https://kworb.net/spotify/country/global_daily.html'\n",
        "page = requests.get(url)\n",
        "soup = BeautifulSoup(page.text, 'html')\n",
        "col_data = soup.find_all('tr')\n",
        "\n",
        "for row in col_data[1:]:\n",
        "    row_data = row.find_all('td')\n",
        "\n",
        "    track_url = row_data[2].find_all('a')[1].get('href')\n",
        "    artist_url = row_data[2].find_all('a')[0].get('href')\n",
        "    daily_stream = row_data[-5].text.strip()\n",
        "    total_stream = row_data[-1].text.strip()\n",
        "\n",
        "    track_pattern = r'../track/([^_]+)\\.html'\n",
        "    track_match = re.search(track_pattern, track_url)\n",
        "    if track_match:\n",
        "        track_id = track_match.group(1)\n",
        "    else:\n",
        "        track_id = np.NaN\n",
        "\n",
        "    artist_pattern = r'../artist/([^_]+)\\.html'\n",
        "    artist_match = re.search(artist_pattern, artist_url)\n",
        "    if artist_match:\n",
        "        artist_id = artist_match.group(1)\n",
        "    else:\n",
        "        artist_id = np.NaN\n",
        "\n",
        "    now = datetime.now()\n",
        "    extract_date = now.strftime(\"%Y-%m-%d %H:%M:%S\")\n",
        "\n",
        "    individual_row_data = [track_id, artist_id, daily_stream, total_stream, extract_date]\n",
        "\n",
        "    length = len(top_200_track_daily)\n",
        "    top_200_track_daily.loc[length] = individual_row_data\n",
        "\n",
        "top_200_track_daily['Daily_Stream'] = top_200_track_daily['Daily_Stream'].apply(lambda x: x.replace(\",\",\"\"))\n",
        "top_200_track_daily['Daily_Stream'] = top_200_track_daily['Daily_Stream'].astype(int)\n",
        "top_200_track_daily['Total_Stream'] = top_200_track_daily['Total_Stream'].apply(lambda x: x.replace(\",\",\"\"))\n",
        "top_200_track_daily['Total_Stream'] = top_200_track_daily['Total_Stream'].astype(int)\n",
        "top_200_track_daily['Extract_Date'] = pd.to_datetime(top_200_track_daily['Extract_Date'])\n",
        "top_200_track_daily"
      ]
    },
    {
      "cell_type": "markdown",
      "metadata": {
        "nteract": {
          "transient": {
            "deleting": false
          }
        }
      },
      "source": [
        "### **1.1.1. Artist IDs**"
      ]
    },
    {
      "cell_type": "code",
      "execution_count": 5,
      "outputs": [
        {
          "output_type": "display_data",
          "data": {
            "application/vnd.livy.statement-meta+json": {
              "spark_pool": "sparkpool",
              "session_id": "6",
              "statement_id": 4,
              "statement_ids": [
                4
              ],
              "state": "finished",
              "livy_statement_state": "available",
              "queued_time": "2024-06-30T00:08:19.140616Z",
              "session_start_time": null,
              "execution_start_time": "2024-06-30T00:08:20.4973678Z",
              "execution_finish_time": "2024-06-30T00:08:21.5819371Z",
              "spark_jobs": null,
              "parent_msg_id": "7b3d355d-15df-4c68-841d-a74cbcc4e17f"
            },
            "text/plain": "StatementMeta(sparkpool, 6, 4, Finished, Available)"
          },
          "metadata": {}
        }
      ],
      "metadata": {
        "jupyter": {
          "source_hidden": false,
          "outputs_hidden": false
        },
        "nteract": {
          "transient": {
            "deleting": false
          }
        }
      },
      "source": [
        "url = 'https://kworb.net/spotify/artists.html'\n",
        "page = requests.get(url)\n",
        "soup = BeautifulSoup(page.text, 'html')\n",
        "col_data = soup.find_all('tr')\n",
        "\n",
        "artist_ids = []\n",
        "for row in col_data[1:]:\n",
        "    row_data = row.find_all('td')\n",
        "    artist_url = row_data[0].find_all('a')[0].get('href')\n",
        "    pattern = r'/spotify/artist/([^_]+)_songs\\.html'\n",
        "    match = re.search(pattern, artist_url)\n",
        "    if match:\n",
        "        artist_id = match.group(1)\n",
        "    else:\n",
        "        artist_id = np.NaN\n",
        "\n",
        "    artist_ids.append(artist_id)"
      ]
    },
    {
      "cell_type": "code",
      "execution_count": 6,
      "outputs": [
        {
          "output_type": "display_data",
          "data": {
            "application/vnd.livy.statement-meta+json": {
              "spark_pool": "sparkpool",
              "session_id": "6",
              "statement_id": 5,
              "statement_ids": [
                5
              ],
              "state": "finished",
              "livy_statement_state": "available",
              "queued_time": "2024-06-30T00:08:19.2005589Z",
              "session_start_time": null,
              "execution_start_time": "2024-06-30T00:08:21.7039993Z",
              "execution_finish_time": "2024-06-30T00:08:21.8664327Z",
              "spark_jobs": null,
              "parent_msg_id": "c1921be0-6bfe-4304-9b87-1dd5b48681b3"
            },
            "text/plain": "StatementMeta(sparkpool, 6, 5, Finished, Available)"
          },
          "metadata": {}
        },
        {
          "output_type": "execute_result",
          "data": {
            "text/plain": "551"
          },
          "execution_count": 11,
          "metadata": {}
        }
      ],
      "metadata": {
        "jupyter": {
          "source_hidden": false,
          "outputs_hidden": false
        },
        "nteract": {
          "transient": {
            "deleting": false
          }
        }
      },
      "source": [
        "# Top n artists\n",
        "n = 500\n",
        "\n",
        "artist_ids = artist_ids[0:n]\n",
        "for artist_id in set(top_200_track_daily['Lead_Artist_ID']):\n",
        "    if artist_id not in artist_ids:\n",
        "        artist_ids.append(artist_id)\n",
        "len(artist_ids)"
      ]
    },
    {
      "cell_type": "markdown",
      "metadata": {
        "nteract": {
          "transient": {
            "deleting": false
          }
        }
      },
      "source": [
        "### **1.1.2. Song Stream Table**"
      ]
    },
    {
      "cell_type": "code",
      "execution_count": 7,
      "outputs": [
        {
          "output_type": "display_data",
          "data": {
            "application/vnd.livy.statement-meta+json": {
              "spark_pool": "sparkpool",
              "session_id": "6",
              "statement_id": 6,
              "statement_ids": [
                6
              ],
              "state": "finished",
              "livy_statement_state": "available",
              "queued_time": "2024-06-30T00:08:19.2996197Z",
              "session_start_time": null,
              "execution_start_time": "2024-06-30T00:08:21.990486Z",
              "execution_finish_time": "2024-06-30T00:17:10.207664Z",
              "spark_jobs": null,
              "parent_msg_id": "2564b214-7b76-447d-914e-8e8a34d405ab"
            },
            "text/plain": "StatementMeta(sparkpool, 6, 6, Finished, Available)"
          },
          "metadata": {}
        }
      ],
      "metadata": {
        "jupyter": {
          "source_hidden": false,
          "outputs_hidden": false
        },
        "nteract": {
          "transient": {
            "deleting": false
          }
        }
      },
      "source": [
        "col_title = ['Song_ID', 'Stream', 'Extract_Date']\n",
        "song_stream = pd.DataFrame(columns = col_title)\n",
        "\n",
        "for artist_id in artist_ids:\n",
        "    pattern_url = f'https://kworb.net/spotify/artist/{artist_id}_songs.html'\n",
        "\n",
        "    page = requests.get(pattern_url)\n",
        "    soup = BeautifulSoup(page.text, 'html')\n",
        "\n",
        "    col_data = soup.find_all('tr')\n",
        "\n",
        "    for row in col_data[5:]:\n",
        "        row_data = row.find_all('td')\n",
        "        song_url = row_data[0].find_all('a')[0].get('href')\n",
        "        pattern = r'https://open.spotify.com/track/([^_]+)'\n",
        "        match = re.search(pattern, song_url)\n",
        "\n",
        "        song_id = match.group(1)\n",
        "        streams = [data.text.strip() for data in row_data][1]\n",
        "        \n",
        "        now = datetime.now()\n",
        "        extract_date = now.strftime(\"%Y-%m-%d %H:%M:%S\")\n",
        "\n",
        "        individual_row_data = [song_id, streams, extract_date]\n",
        "\n",
        "        length = len(song_stream)\n",
        "        song_stream.loc[length] = individual_row_data"
      ]
    },
    {
      "cell_type": "code",
      "execution_count": 8,
      "outputs": [
        {
          "output_type": "display_data",
          "data": {
            "application/vnd.livy.statement-meta+json": {
              "spark_pool": "sparkpool",
              "session_id": "6",
              "statement_id": 7,
              "statement_ids": [
                7
              ],
              "state": "finished",
              "livy_statement_state": "available",
              "queued_time": "2024-06-30T00:08:19.4554695Z",
              "session_start_time": null,
              "execution_start_time": "2024-06-30T00:17:10.3511984Z",
              "execution_finish_time": "2024-06-30T00:17:10.5385925Z",
              "spark_jobs": null,
              "parent_msg_id": "74ef0f48-be08-48e0-b123-3a35476a6e6e"
            },
            "text/plain": "StatementMeta(sparkpool, 6, 7, Finished, Available)"
          },
          "metadata": {}
        }
      ],
      "metadata": {
        "jupyter": {
          "source_hidden": false,
          "outputs_hidden": false
        },
        "nteract": {
          "transient": {
            "deleting": false
          }
        }
      },
      "source": [
        "song_stream['Stream'] = song_stream['Stream'].apply(lambda x: x.replace(\",\",\"\"))\n",
        "song_stream['Stream'] = song_stream['Stream'].astype(int)\n",
        "song_stream['Extract_Date'] = pd.to_datetime(song_stream['Extract_Date'], format='%Y-%m-%d %H:%M:%S')\n",
        "song_stream.drop_duplicates(subset='Song_ID', keep='first', inplace=True)"
      ]
    },
    {
      "cell_type": "markdown",
      "metadata": {
        "nteract": {
          "transient": {
            "deleting": false
          }
        }
      },
      "source": [
        "## **1.2. Spotify Web API**"
      ]
    },
    {
      "cell_type": "markdown",
      "metadata": {
        "nteract": {
          "transient": {
            "deleting": false
          }
        }
      },
      "source": [
        "### **1.2.1. Token and Authorization**"
      ]
    },
    {
      "cell_type": "code",
      "execution_count": 9,
      "outputs": [
        {
          "output_type": "display_data",
          "data": {
            "application/vnd.livy.statement-meta+json": {
              "spark_pool": "sparkpool",
              "session_id": "6",
              "statement_id": 8,
              "statement_ids": [
                8
              ],
              "state": "finished",
              "livy_statement_state": "available",
              "queued_time": "2024-06-30T00:08:19.5646125Z",
              "session_start_time": null,
              "execution_start_time": "2024-06-30T00:17:10.6647049Z",
              "execution_finish_time": "2024-06-30T00:17:10.814921Z",
              "spark_jobs": null,
              "parent_msg_id": "a1c67bb2-8936-43ea-91af-dcf966518ee0"
            },
            "text/plain": "StatementMeta(sparkpool, 6, 8, Finished, Available)"
          },
          "metadata": {}
        }
      ],
      "metadata": {
        "jupyter": {
          "source_hidden": false,
          "outputs_hidden": false
        },
        "nteract": {
          "transient": {
            "deleting": false
          }
        }
      },
      "source": [
        "client_id = 'ae28bbc5ae7f4292be5c065babb01997'\n",
        "client_secret = '0a4f4c9a2e7147dc8d31ac6914f50132'\n",
        "\n",
        "def get_token():\n",
        "    url = 'https://accounts.spotify.com/api/token'\n",
        "    \n",
        "    auth_string = client_id + ':' + client_secret\n",
        "    auth_bytes = auth_string.encode(\"utf-8\")\n",
        "    auth_base64 = str(base64.b64encode(auth_bytes), \"utf-8\")\n",
        "\n",
        "    headers = {\n",
        "        'content-type': 'application/x-www-form-urlencoded',\n",
        "        'Authorization': 'Basic ' + auth_base64\n",
        "    }\n",
        "\n",
        "    form = {\n",
        "        'grant_type': 'client_credentials'\n",
        "    }\n",
        "\n",
        "    result = post(url, headers=headers, data=form)\n",
        "    json_result = json.loads(result.content)\n",
        "    token = json_result['access_token']\n",
        "    return token\n",
        "\n",
        "def get_auth_header(token):\n",
        "    return {\"Authorization\": f\"Bearer {token}\"}"
      ]
    },
    {
      "cell_type": "markdown",
      "metadata": {
        "nteract": {
          "transient": {
            "deleting": false
          }
        }
      },
      "source": [
        "### **1.2.2. Artist Tables**"
      ]
    },
    {
      "cell_type": "code",
      "execution_count": 10,
      "outputs": [
        {
          "output_type": "display_data",
          "data": {
            "application/vnd.livy.statement-meta+json": {
              "spark_pool": "sparkpool",
              "session_id": "6",
              "statement_id": 9,
              "statement_ids": [
                9
              ],
              "state": "finished",
              "livy_statement_state": "available",
              "queued_time": "2024-06-30T00:08:19.6297488Z",
              "session_start_time": null,
              "execution_start_time": "2024-06-30T00:17:10.937568Z",
              "execution_finish_time": "2024-06-30T00:17:11.0858221Z",
              "spark_jobs": null,
              "parent_msg_id": "28904d41-db9c-4800-8e64-3a67cfd54bff"
            },
            "text/plain": "StatementMeta(sparkpool, 6, 9, Finished, Available)"
          },
          "metadata": {}
        }
      ],
      "metadata": {
        "jupyter": {
          "source_hidden": false,
          "outputs_hidden": false
        },
        "nteract": {
          "transient": {
            "deleting": false
          }
        }
      },
      "source": [
        "def search_for_artists(artist_ids, artist_info_list, artist_follower_list, artist_genres_list, max_retries=5, backoff_factor=1.0):\n",
        "    url = f\"https://api.spotify.com/v1/artists?ids={artist_ids}\"\n",
        "    token = get_token()\n",
        "    headers = get_auth_header(token)\n",
        "\n",
        "    for attempt in range(max_retries):\n",
        "        response = get(url, headers=headers)\n",
        "        \n",
        "        if response.status_code == 200:\n",
        "            \n",
        "            json_result = response.json()  # use .json() method directly\n",
        "            artists = pd.json_normalize(json_result['artists'])\n",
        "            \n",
        "            #artist_info table\n",
        "            artist_info = artists[['id', 'name', 'images']]\n",
        "            artist_info_list.append(artist_info)\n",
        "\n",
        "            #artist_follower table\n",
        "            artist_follower = artists[['id', 'followers.total']]\n",
        "            now = datetime.now()\n",
        "            artist_follower['Extract_Date'] = now.strftime(\"%Y-%m-%d %H:%M:%S\")\n",
        "            artist_follower_list.append(artist_follower)\n",
        "            \n",
        "            #artist_genres table\n",
        "            artist_genres = artists[['id', 'genres']]\n",
        "            artist_genres_list.append(artist_genres)\n",
        "\n",
        "            return artist_info_list, artist_follower_list, artist_genres_list\n",
        "        \n",
        "        elif response.status_code == 429:\n",
        "            retry_after = int(response.headers.get(\"Retry-After\", backoff_factor * (2 ** attempt)))\n",
        "            print(f\"Too many requests. Retrying in {retry_after} seconds...\")\n",
        "            time.sleep(retry_after)\n",
        "        \n",
        "        else:\n",
        "            response.raise_for_status()\n",
        "    \n",
        "    raise Exception(\"Maximum retries exceeded\")"
      ]
    },
    {
      "cell_type": "code",
      "execution_count": 11,
      "outputs": [
        {
          "output_type": "display_data",
          "data": {
            "application/vnd.livy.statement-meta+json": {
              "spark_pool": "sparkpool",
              "session_id": "6",
              "statement_id": 10,
              "statement_ids": [
                10
              ],
              "state": "finished",
              "livy_statement_state": "available",
              "queued_time": "2024-06-30T00:08:19.692599Z",
              "session_start_time": null,
              "execution_start_time": "2024-06-30T00:17:11.2183226Z",
              "execution_finish_time": "2024-06-30T00:17:15.1141282Z",
              "spark_jobs": null,
              "parent_msg_id": "47d62945-32a7-4053-8b07-fc7bba183f29"
            },
            "text/plain": "StatementMeta(sparkpool, 6, 10, Finished, Available)"
          },
          "metadata": {}
        }
      ],
      "metadata": {
        "jupyter": {
          "source_hidden": false,
          "outputs_hidden": false
        },
        "nteract": {
          "transient": {
            "deleting": false
          }
        }
      },
      "source": [
        "concat_artist_ids = ''\n",
        "count = 1\n",
        "\n",
        "artist_info_list = []\n",
        "artist_follower_list = []\n",
        "artist_genres_list = []\n",
        "batch = 50\n",
        "\n",
        "for artist_id in artist_ids:\n",
        "    if count % batch in range(1,batch):\n",
        "        concat_artist_ids = concat_artist_ids + ',' + str(artist_id)\n",
        "        if count == len(artist_ids):\n",
        "            concat_artist_ids = concat_artist_ids[1:]\n",
        "            try:\n",
        "                search_for_artists(concat_artist_ids, artist_info_list, artist_follower_list, artist_genres_list)\n",
        "            except:\n",
        "                continue\n",
        "    else:\n",
        "        concat_artist_ids = concat_artist_ids + ',' + str(artist_id)\n",
        "        concat_artist_ids = concat_artist_ids[1:]\n",
        "        try:\n",
        "            search_for_artists(concat_artist_ids, artist_info_list, artist_follower_list, artist_genres_list)\n",
        "        except:\n",
        "            continue\n",
        "        \n",
        "        concat_artist_ids = ''\n",
        "\n",
        "    count += 1"
      ]
    },
    {
      "cell_type": "code",
      "execution_count": 12,
      "outputs": [
        {
          "output_type": "display_data",
          "data": {
            "application/vnd.livy.statement-meta+json": {
              "spark_pool": "sparkpool",
              "session_id": "6",
              "statement_id": 11,
              "statement_ids": [
                11
              ],
              "state": "finished",
              "livy_statement_state": "available",
              "queued_time": "2024-06-30T00:08:19.7325004Z",
              "session_start_time": null,
              "execution_start_time": "2024-06-30T00:17:15.2417584Z",
              "execution_finish_time": "2024-06-30T00:17:15.4280781Z",
              "spark_jobs": null,
              "parent_msg_id": "88269a20-babd-488b-8300-1a9c1d31a471"
            },
            "text/plain": "StatementMeta(sparkpool, 6, 11, Finished, Available)"
          },
          "metadata": {}
        }
      ],
      "metadata": {
        "jupyter": {
          "source_hidden": false,
          "outputs_hidden": false
        },
        "nteract": {
          "transient": {
            "deleting": false
          }
        }
      },
      "source": [
        "artist_info = pd.concat(artist_info_list, ignore_index=True)\n",
        "artist_follower = pd.concat(artist_follower_list, ignore_index=True)\n",
        "artist_genres = pd.concat(artist_genres_list, ignore_index=True)"
      ]
    },
    {
      "cell_type": "markdown",
      "metadata": {
        "nteract": {
          "transient": {
            "deleting": false
          }
        }
      },
      "source": [
        "#### **1.2.2.1. Artist Info Table**"
      ]
    },
    {
      "cell_type": "code",
      "execution_count": 13,
      "outputs": [
        {
          "output_type": "display_data",
          "data": {
            "application/vnd.livy.statement-meta+json": {
              "spark_pool": "sparkpool",
              "session_id": "6",
              "statement_id": 12,
              "statement_ids": [
                12
              ],
              "state": "finished",
              "livy_statement_state": "available",
              "queued_time": "2024-06-30T00:08:19.7931605Z",
              "session_start_time": null,
              "execution_start_time": "2024-06-30T00:17:15.548254Z",
              "execution_finish_time": "2024-06-30T00:17:15.6929925Z",
              "spark_jobs": null,
              "parent_msg_id": "5141d2d3-12dd-47c6-a6f3-004d971d5a5c"
            },
            "text/plain": "StatementMeta(sparkpool, 6, 12, Finished, Available)"
          },
          "metadata": {}
        }
      ],
      "metadata": {
        "jupyter": {
          "source_hidden": false,
          "outputs_hidden": false
        },
        "nteract": {
          "transient": {
            "deleting": false
          }
        }
      },
      "source": [
        "artist_info.dropna(inplace=True)\n",
        "artist_info.drop(artist_info[artist_info['images'].apply(lambda x: len(x) == 0)].index,\n",
        "                 axis=0, inplace=True)\n",
        "artist_info['images'] = artist_info['images'].apply(lambda x: x[0]['url'])\n",
        "artist_info.rename(columns={'id': 'Artist_ID',\n",
        "                            'name': 'Artist_Name',\n",
        "                            'images': 'Artist_Image'},\n",
        "                            inplace=True)"
      ]
    },
    {
      "cell_type": "markdown",
      "metadata": {
        "nteract": {
          "transient": {
            "deleting": false
          }
        }
      },
      "source": [
        "#### **1.2.2.2. Artist Follower Table**"
      ]
    },
    {
      "cell_type": "code",
      "execution_count": 14,
      "outputs": [
        {
          "output_type": "display_data",
          "data": {
            "application/vnd.livy.statement-meta+json": {
              "spark_pool": "sparkpool",
              "session_id": "6",
              "statement_id": 13,
              "statement_ids": [
                13
              ],
              "state": "finished",
              "livy_statement_state": "available",
              "queued_time": "2024-06-30T00:08:19.8349684Z",
              "session_start_time": null,
              "execution_start_time": "2024-06-30T00:17:15.8176396Z",
              "execution_finish_time": "2024-06-30T00:17:16.0067915Z",
              "spark_jobs": null,
              "parent_msg_id": "104849d3-8087-4e7b-87b2-58d40c077bde"
            },
            "text/plain": "StatementMeta(sparkpool, 6, 13, Finished, Available)"
          },
          "metadata": {}
        }
      ],
      "metadata": {
        "jupyter": {
          "source_hidden": false,
          "outputs_hidden": false
        },
        "nteract": {
          "transient": {
            "deleting": false
          }
        }
      },
      "source": [
        "artist_follower.dropna(inplace=True)\n",
        "artist_follower['followers.total'] = artist_follower['followers.total'].astype(int)\n",
        "artist_follower.rename(columns={'id': 'Artist_ID',\n",
        "                                'followers.total': 'Followers'},\n",
        "                                inplace=True)\n",
        "artist_follower['Extract_Date'] = pd.to_datetime(artist_follower['Extract_Date'], format='%Y-%m-%d %H:%M:%S')\n",
        "artist_follower = pd.merge(artist_info, artist_follower, on='Artist_ID', how='inner')[['Artist_ID', 'Followers', 'Extract_Date']]"
      ]
    },
    {
      "cell_type": "markdown",
      "metadata": {
        "nteract": {
          "transient": {
            "deleting": false
          }
        }
      },
      "source": [
        "#### **1.2.2.3. Artist - Genre Table**"
      ]
    },
    {
      "cell_type": "code",
      "execution_count": 15,
      "outputs": [
        {
          "output_type": "display_data",
          "data": {
            "application/vnd.livy.statement-meta+json": {
              "spark_pool": "sparkpool",
              "session_id": "6",
              "statement_id": 14,
              "statement_ids": [
                14
              ],
              "state": "finished",
              "livy_statement_state": "available",
              "queued_time": "2024-06-30T00:08:19.9787257Z",
              "session_start_time": null,
              "execution_start_time": "2024-06-30T00:17:16.1377653Z",
              "execution_finish_time": "2024-06-30T00:17:16.2873057Z",
              "spark_jobs": null,
              "parent_msg_id": "290bb8d6-c203-4ae8-b3a1-18feb12d37b8"
            },
            "text/plain": "StatementMeta(sparkpool, 6, 14, Finished, Available)"
          },
          "metadata": {}
        }
      ],
      "metadata": {
        "jupyter": {
          "source_hidden": false,
          "outputs_hidden": false
        },
        "nteract": {
          "transient": {
            "deleting": false
          }
        }
      },
      "source": [
        "artist_genres = artist_genres.explode('genres')\n",
        "artist_genres.dropna(inplace=True)\n",
        "\n",
        "all_genres = [genre for genre in artist_genres['genres'] if genre is not np.NaN]\n",
        "unique_genres = list(set(all_genres))\n",
        "\n",
        "genre_to_code = {genre: code + 1 for code, genre in enumerate(unique_genres)}\n",
        "artist_genres['genres'] = artist_genres['genres'].apply(lambda genre: genre_to_code[genre])\n",
        "artist_genres = artist_genres.reset_index(drop=True)\n",
        "artist_genres.rename(columns={'genres': 'Genre_ID',\n",
        "                              'id': 'Artist_ID'},\n",
        "                              inplace=True)\n",
        "\n",
        "no_artist = []\n",
        "for artist in artist_genres['Artist_ID'].tolist():\n",
        "    if artist not in artist_info['Artist_ID'].tolist():\n",
        "        no_artist.append(artist)\n",
        "\n",
        "artist_genres.drop(artist_genres[artist_genres['Artist_ID'].isin(no_artist)].index, axis=0, inplace=True)"
      ]
    },
    {
      "cell_type": "markdown",
      "metadata": {
        "nteract": {
          "transient": {
            "deleting": false
          }
        }
      },
      "source": [
        "#### **1.2.2.4. Genres Table**"
      ]
    },
    {
      "cell_type": "code",
      "execution_count": 16,
      "outputs": [
        {
          "output_type": "display_data",
          "data": {
            "application/vnd.livy.statement-meta+json": {
              "spark_pool": "sparkpool",
              "session_id": "6",
              "statement_id": 15,
              "statement_ids": [
                15
              ],
              "state": "finished",
              "livy_statement_state": "available",
              "queued_time": "2024-06-30T00:08:19.9829082Z",
              "session_start_time": null,
              "execution_start_time": "2024-06-30T00:17:16.4160741Z",
              "execution_finish_time": "2024-06-30T00:17:16.5639379Z",
              "spark_jobs": null,
              "parent_msg_id": "de1354ba-e180-4c95-a243-dbb411ae1469"
            },
            "text/plain": "StatementMeta(sparkpool, 6, 15, Finished, Available)"
          },
          "metadata": {}
        }
      ],
      "metadata": {
        "jupyter": {
          "source_hidden": false,
          "outputs_hidden": false
        },
        "nteract": {
          "transient": {
            "deleting": false
          }
        }
      },
      "source": [
        "genres = pd.DataFrame(list(genre_to_code.items()), columns=['Genre_Name', 'Genre_ID'])[['Genre_ID', 'Genre_Name']]"
      ]
    },
    {
      "cell_type": "markdown",
      "metadata": {
        "nteract": {
          "transient": {
            "deleting": false
          }
        }
      },
      "source": [
        "### **1.2.3. Song Tables**"
      ]
    },
    {
      "cell_type": "code",
      "execution_count": 17,
      "outputs": [
        {
          "output_type": "display_data",
          "data": {
            "application/vnd.livy.statement-meta+json": {
              "spark_pool": "sparkpool",
              "session_id": "6",
              "statement_id": 16,
              "statement_ids": [
                16
              ],
              "state": "finished",
              "livy_statement_state": "available",
              "queued_time": "2024-06-30T00:08:19.9881899Z",
              "session_start_time": null,
              "execution_start_time": "2024-06-30T00:17:16.7096562Z",
              "execution_finish_time": "2024-06-30T00:17:16.8598789Z",
              "spark_jobs": null,
              "parent_msg_id": "11325081-9050-446d-a965-5fb73807e147"
            },
            "text/plain": "StatementMeta(sparkpool, 6, 16, Finished, Available)"
          },
          "metadata": {}
        }
      ],
      "metadata": {
        "jupyter": {
          "source_hidden": false,
          "outputs_hidden": false
        },
        "nteract": {
          "transient": {
            "deleting": false
          }
        }
      },
      "source": [
        "def search_for_tracks(track_ids, song_info_list, artist_song_list, album_song_list, max_retries=5, backoff_factor=1.0):\n",
        "    url = f\"https://api.spotify.com/v1/tracks?ids={track_ids}\"\n",
        "    token = get_token()\n",
        "    headers = get_auth_header(token)\n",
        "\n",
        "    for attempt in range(max_retries):\n",
        "        response = get(url, headers=headers)\n",
        "        \n",
        "        if response.status_code == 200:\n",
        "            \n",
        "            json_result = response.json()  # use .json() method directly\n",
        "            songs = pd.json_normalize(json_result['tracks'])\n",
        "            \n",
        "            #song_info table\n",
        "            song_info = songs[['id', 'name', 'explicit', 'duration_ms', 'track_number']]\n",
        "            song_info_list.append(song_info)\n",
        "\n",
        "            #artist_song table\n",
        "            artist_song = songs[['id', 'artists', 'album.artists']]\n",
        "            artist_song_list.append(artist_song)\n",
        "            \n",
        "            #album_song table\n",
        "            album_song = songs[['id', 'album.id']]\n",
        "            album_song_list.append(album_song)\n",
        "\n",
        "            return song_info_list, artist_song_list, album_song_list\n",
        "        \n",
        "        elif response.status_code == 429:\n",
        "            retry_after = int(response.headers.get(\"Retry-After\", backoff_factor * (2 ** attempt)))\n",
        "            print(f\"Too many requests. Retrying in {retry_after} seconds...\")\n",
        "            time.sleep(retry_after)\n",
        "        \n",
        "        else:\n",
        "            response.raise_for_status()\n",
        "    \n",
        "    raise Exception(\"Maximum retries exceeded\")"
      ]
    },
    {
      "cell_type": "code",
      "execution_count": 18,
      "outputs": [
        {
          "output_type": "display_data",
          "data": {
            "application/vnd.livy.statement-meta+json": {
              "spark_pool": "sparkpool",
              "session_id": "6",
              "statement_id": 17,
              "statement_ids": [
                17
              ],
              "state": "finished",
              "livy_statement_state": "available",
              "queued_time": "2024-06-30T00:08:20.0264048Z",
              "session_start_time": null,
              "execution_start_time": "2024-06-30T00:17:16.988528Z",
              "execution_finish_time": "2024-06-30T00:28:16.1938214Z",
              "spark_jobs": null,
              "parent_msg_id": "d473a470-0b13-4834-80ec-42510bec2c34"
            },
            "text/plain": "StatementMeta(sparkpool, 6, 17, Finished, Available)"
          },
          "metadata": {}
        }
      ],
      "metadata": {
        "jupyter": {
          "source_hidden": false,
          "outputs_hidden": false
        },
        "nteract": {
          "transient": {
            "deleting": false
          }
        }
      },
      "source": [
        "concat_tracks_ids = ''\n",
        "count = 1\n",
        "\n",
        "song_info_list = []\n",
        "artist_song_list = []\n",
        "album_song_list = []\n",
        "batch = 50\n",
        "\n",
        "for track_id in song_stream['Song_ID']:\n",
        "    if count % batch in range(1,batch):\n",
        "        concat_tracks_ids = concat_tracks_ids + ',' + str(track_id)\n",
        "        if count == len(song_stream['Song_ID']):\n",
        "            concat_tracks_ids = concat_tracks_ids[1:]\n",
        "            search_for_tracks(concat_tracks_ids, song_info_list, artist_song_list, album_song_list)\n",
        "    else:\n",
        "        concat_tracks_ids = concat_tracks_ids + ',' + str(track_id)\n",
        "        concat_tracks_ids = concat_tracks_ids[1:]\n",
        "        search_for_tracks(concat_tracks_ids, song_info_list, artist_song_list, album_song_list)\n",
        "        \n",
        "        concat_tracks_ids = ''\n",
        "\n",
        "    count += 1"
      ]
    },
    {
      "cell_type": "code",
      "execution_count": 19,
      "outputs": [
        {
          "output_type": "display_data",
          "data": {
            "application/vnd.livy.statement-meta+json": {
              "spark_pool": "sparkpool",
              "session_id": "6",
              "statement_id": 18,
              "statement_ids": [
                18
              ],
              "state": "finished",
              "livy_statement_state": "available",
              "queued_time": "2024-06-30T00:08:20.0967106Z",
              "session_start_time": null,
              "execution_start_time": "2024-06-30T00:28:16.3356729Z",
              "execution_finish_time": "2024-06-30T00:28:17.4116507Z",
              "spark_jobs": null,
              "parent_msg_id": "7d3edea8-3a83-45a6-9585-1d233dafab24"
            },
            "text/plain": "StatementMeta(sparkpool, 6, 18, Finished, Available)"
          },
          "metadata": {}
        }
      ],
      "metadata": {
        "jupyter": {
          "source_hidden": false,
          "outputs_hidden": false
        },
        "nteract": {
          "transient": {
            "deleting": false
          }
        }
      },
      "source": [
        "song_info = pd.concat(song_info_list, ignore_index=True)\n",
        "artist_song = pd.concat(artist_song_list, ignore_index=True)\n",
        "album_song = pd.concat(album_song_list, ignore_index=True)"
      ]
    },
    {
      "cell_type": "markdown",
      "metadata": {
        "nteract": {
          "transient": {
            "deleting": false
          }
        }
      },
      "source": [
        "#### **1.2.3.1. Song Info Table**"
      ]
    },
    {
      "cell_type": "code",
      "execution_count": 20,
      "outputs": [
        {
          "output_type": "display_data",
          "data": {
            "application/vnd.livy.statement-meta+json": {
              "spark_pool": "sparkpool",
              "session_id": "6",
              "statement_id": 19,
              "statement_ids": [
                19
              ],
              "state": "finished",
              "livy_statement_state": "available",
              "queued_time": "2024-06-30T00:08:20.1481609Z",
              "session_start_time": null,
              "execution_start_time": "2024-06-30T00:28:17.5342207Z",
              "execution_finish_time": "2024-06-30T00:28:17.7227118Z",
              "spark_jobs": null,
              "parent_msg_id": "01fdbcb4-8d95-49e2-a8c3-fd890680b7b2"
            },
            "text/plain": "StatementMeta(sparkpool, 6, 19, Finished, Available)"
          },
          "metadata": {}
        }
      ],
      "metadata": {
        "jupyter": {
          "source_hidden": false,
          "outputs_hidden": false
        },
        "nteract": {
          "transient": {
            "deleting": false
          }
        }
      },
      "source": [
        "song_info.drop_duplicates(inplace=True)\n",
        "\n",
        "song_info.rename(columns={'id': 'Song_ID',\n",
        "                           'name': 'Song_Name',\n",
        "                           'explicit': 'Explicit',\n",
        "                           'duration_ms': 'Duration',\n",
        "                           'track_number': 'Track_Number'},\n",
        "                           inplace=True)"
      ]
    },
    {
      "cell_type": "markdown",
      "metadata": {
        "nteract": {
          "transient": {
            "deleting": false
          }
        }
      },
      "source": [
        "#### **1.2.3.2. Lead Artist Table**"
      ]
    },
    {
      "cell_type": "code",
      "execution_count": 21,
      "outputs": [
        {
          "output_type": "display_data",
          "data": {
            "application/vnd.livy.statement-meta+json": {
              "spark_pool": "sparkpool",
              "session_id": "6",
              "statement_id": 20,
              "statement_ids": [
                20
              ],
              "state": "finished",
              "livy_statement_state": "available",
              "queued_time": "2024-06-30T00:08:20.2223594Z",
              "session_start_time": null,
              "execution_start_time": "2024-06-30T00:28:17.8389023Z",
              "execution_finish_time": "2024-06-30T00:28:24.6951711Z",
              "spark_jobs": null,
              "parent_msg_id": "6cbff56b-a6c9-4b8b-8b87-27298ec936ac"
            },
            "text/plain": "StatementMeta(sparkpool, 6, 20, Finished, Available)"
          },
          "metadata": {}
        }
      ],
      "metadata": {
        "jupyter": {
          "source_hidden": false,
          "outputs_hidden": false
        },
        "nteract": {
          "transient": {
            "deleting": false
          }
        }
      },
      "source": [
        "def extract_ids(artists):\n",
        "    return [artist['id'] for artist in artists]\n",
        "\n",
        "artist_song['artists'] = artist_song['artists'].apply(extract_ids)\n",
        "artist_song['album.artists'] = artist_song['album.artists'].apply(extract_ids)\n",
        "\n",
        "def find_lead_artists(row):\n",
        "    return [artist for artist in row['artists'] if artist in row['album.artists']]\n",
        "\n",
        "artist_song['lead_artist'] = artist_song.apply(find_lead_artists, axis=1)\n",
        "\n",
        "def find_feature_artists(row):\n",
        "    return [artist for artist in row['artists'] if artist not in row['album.artists']]\n",
        "\n",
        "artist_song['feature_artist'] = artist_song.apply(find_feature_artists, axis=1)\n",
        "\n",
        "lead_artist = artist_song[['lead_artist', 'id']]\n",
        "lead_artist.rename(columns={'lead_artist': 'Lead_Artist_ID','id': 'Song_ID'}, inplace=True)\n",
        "lead_artist = lead_artist.explode('Lead_Artist_ID')\n",
        "lead_artist.drop_duplicates(inplace=True)\n",
        "\n",
        "merge_df = pd.merge(lead_artist, artist_info, left_on='Lead_Artist_ID',\n",
        "                    right_on='Artist_ID', how='left')\n",
        "no_lead_artist_rows = merge_df[merge_df['Lead_Artist_ID'].isnull()]['Song_ID'].tolist()\n",
        "artist_song['lead_artist'] = artist_song.apply(lambda x: x['artists'] if x['id'] in no_lead_artist_rows\n",
        "                                               else x['lead_artist'], axis=1)\n",
        "artist_song['feature_artist'] = artist_song.apply(lambda x: [] if x['id'] in no_lead_artist_rows\n",
        "                                                  else x['feature_artist'], axis=1)\n",
        "lead_artist = artist_song[['lead_artist', 'id']]\n",
        "lead_artist.rename(columns={'lead_artist': 'Lead_Artist_ID','id': 'Song_ID'}, inplace=True)\n",
        "lead_artist = lead_artist.explode('Lead_Artist_ID')\n",
        "lead_artist.drop_duplicates(inplace=True)\n",
        "\n",
        "merge_df = pd.merge(lead_artist, artist_info, left_on='Lead_Artist_ID',\n",
        "                    right_on='Artist_ID', how='left')\n",
        "merge_df.dropna(inplace=True)\n",
        "\n",
        "lead_artist = merge_df[['Lead_Artist_ID', 'Song_ID']]"
      ]
    },
    {
      "cell_type": "markdown",
      "metadata": {
        "nteract": {
          "transient": {
            "deleting": false
          }
        }
      },
      "source": [
        "#### **1.2.3.3. Feature Artist Table**"
      ]
    },
    {
      "cell_type": "code",
      "execution_count": 22,
      "outputs": [
        {
          "output_type": "display_data",
          "data": {
            "application/vnd.livy.statement-meta+json": {
              "spark_pool": "sparkpool",
              "session_id": "6",
              "statement_id": 21,
              "statement_ids": [
                21
              ],
              "state": "finished",
              "livy_statement_state": "available",
              "queued_time": "2024-06-30T00:08:20.2887662Z",
              "session_start_time": null,
              "execution_start_time": "2024-06-30T00:28:24.8245675Z",
              "execution_finish_time": "2024-06-30T00:28:25.3876745Z",
              "spark_jobs": null,
              "parent_msg_id": "446f6ccb-9e2e-472f-a36c-762063b5e764"
            },
            "text/plain": "StatementMeta(sparkpool, 6, 21, Finished, Available)"
          },
          "metadata": {}
        }
      ],
      "metadata": {
        "jupyter": {
          "source_hidden": false,
          "outputs_hidden": false
        },
        "nteract": {
          "transient": {
            "deleting": false
          }
        }
      },
      "source": [
        "feature_artist = artist_song[['feature_artist', 'id']]\n",
        "feature_artist.rename(columns={'feature_artist': 'Feature_Artist_ID','id': 'Song_ID'}, inplace=True)\n",
        "feature_artist = feature_artist.explode('Feature_Artist_ID')\n",
        "feature_artist.drop_duplicates(inplace=True)\n",
        "\n",
        "merge_df = pd.merge(feature_artist, artist_info, left_on='Feature_Artist_ID',\n",
        "                    right_on='Artist_ID', how='left')\n",
        "merge_df.dropna(inplace=True)\n",
        "\n",
        "feature_artist = merge_df[['Feature_Artist_ID', 'Song_ID']]"
      ]
    },
    {
      "cell_type": "markdown",
      "metadata": {
        "nteract": {
          "transient": {
            "deleting": false
          }
        }
      },
      "source": [
        "### **1.2.4. Album Tables**"
      ]
    },
    {
      "cell_type": "code",
      "execution_count": 23,
      "outputs": [
        {
          "output_type": "display_data",
          "data": {
            "application/vnd.livy.statement-meta+json": {
              "spark_pool": "sparkpool",
              "session_id": "6",
              "statement_id": 22,
              "statement_ids": [
                22
              ],
              "state": "finished",
              "livy_statement_state": "available",
              "queued_time": "2024-06-30T00:08:20.348822Z",
              "session_start_time": null,
              "execution_start_time": "2024-06-30T00:28:25.526709Z",
              "execution_finish_time": "2024-06-30T00:28:25.67595Z",
              "spark_jobs": null,
              "parent_msg_id": "04e8d4dd-d750-4d27-8b8d-a8a7ea93061a"
            },
            "text/plain": "StatementMeta(sparkpool, 6, 22, Finished, Available)"
          },
          "metadata": {}
        }
      ],
      "metadata": {
        "jupyter": {
          "source_hidden": false,
          "outputs_hidden": false
        },
        "nteract": {
          "transient": {
            "deleting": false
          }
        }
      },
      "source": [
        "def search_for_albums(album_ids, album_info_list, artist_album_list, max_retries=5, backoff_factor=1.0):\n",
        "    url = f\"https://api.spotify.com/v1/albums?ids={album_ids}\"\n",
        "    token = get_token()\n",
        "    headers = get_auth_header(token)\n",
        "\n",
        "    for attempt in range(max_retries):\n",
        "        response = get(url, headers=headers)\n",
        "        \n",
        "        if response.status_code == 200:\n",
        "            \n",
        "            json_result = response.json()  # use .json() method directly\n",
        "            albums = pd.json_normalize(json_result['albums'])\n",
        "            \n",
        "            #album_info table\n",
        "            album_info = albums[['id', 'name', 'total_tracks', 'album_type',\n",
        "                                 'release_date', 'images', 'label']]\n",
        "            album_info_list.append(album_info)\n",
        "\n",
        "            #artist_album table\n",
        "            artist_album = albums[['id', 'artists']]\n",
        "            artist_album_list.append(artist_album)\n",
        "\n",
        "            return album_info_list, artist_album_list\n",
        "        \n",
        "        elif response.status_code == 429:\n",
        "            retry_after = int(response.headers.get(\"Retry-After\", backoff_factor * (2 ** attempt)))\n",
        "            print(f\"Too many requests. Retrying in {retry_after} seconds...\")\n",
        "            time.sleep(retry_after)\n",
        "        \n",
        "        else:\n",
        "            response.raise_for_status()\n",
        "    \n",
        "    raise Exception(\"Maximum retries exceeded\")"
      ]
    },
    {
      "cell_type": "code",
      "execution_count": 25,
      "outputs": [
        {
          "output_type": "display_data",
          "data": {
            "application/vnd.livy.statement-meta+json": {
              "spark_pool": "sparkpool",
              "session_id": "6",
              "statement_id": 24,
              "statement_ids": [
                24
              ],
              "state": "finished",
              "livy_statement_state": "available",
              "queued_time": "2024-06-30T00:32:33.3549062Z",
              "session_start_time": null,
              "execution_start_time": "2024-06-30T00:32:33.4767345Z",
              "execution_finish_time": "2024-06-30T00:42:47.6761597Z",
              "spark_jobs": null,
              "parent_msg_id": "aa3998a8-5b6c-4c14-b0cc-4c7645d4d405"
            },
            "text/plain": "StatementMeta(sparkpool, 6, 24, Finished, Available)"
          },
          "metadata": {}
        }
      ],
      "metadata": {
        "jupyter": {
          "source_hidden": false,
          "outputs_hidden": false
        },
        "nteract": {
          "transient": {
            "deleting": false
          }
        }
      },
      "source": [
        "album_list = list(set(album_song['album.id']))\n",
        "\n",
        "concat_albums_ids = ''\n",
        "count = 1\n",
        "\n",
        "album_info_list = []\n",
        "artist_album_list = []\n",
        "\n",
        "for album_id in album_list:\n",
        "    if count % 20 in range(1,20):\n",
        "        concat_albums_ids = concat_albums_ids + ',' + str(album_id)\n",
        "        if count == len(album_list):\n",
        "            concat_albums_ids = concat_albums_ids[1:]\n",
        "            search_for_albums(concat_albums_ids, album_info_list, artist_album_list)\n",
        "    else:\n",
        "        concat_albums_ids = concat_albums_ids + ',' + str(album_id)\n",
        "        concat_albums_ids = concat_albums_ids[1:]\n",
        "        search_for_albums(concat_albums_ids, album_info_list, artist_album_list)\n",
        "        \n",
        "        concat_albums_ids = ''\n",
        "\n",
        "    count += 1"
      ]
    },
    {
      "cell_type": "code",
      "execution_count": 26,
      "outputs": [
        {
          "output_type": "display_data",
          "data": {
            "application/vnd.livy.statement-meta+json": {
              "spark_pool": "sparkpool",
              "session_id": "6",
              "statement_id": 25,
              "statement_ids": [
                25
              ],
              "state": "finished",
              "livy_statement_state": "available",
              "queued_time": "2024-06-30T00:32:33.3964035Z",
              "session_start_time": null,
              "execution_start_time": "2024-06-30T00:42:47.8150955Z",
              "execution_finish_time": "2024-06-30T00:42:48.3168674Z",
              "spark_jobs": null,
              "parent_msg_id": "b173980c-6e13-44fa-9f8c-46d6b209a702"
            },
            "text/plain": "StatementMeta(sparkpool, 6, 25, Finished, Available)"
          },
          "metadata": {}
        }
      ],
      "metadata": {
        "jupyter": {
          "source_hidden": false,
          "outputs_hidden": false
        },
        "nteract": {
          "transient": {
            "deleting": false
          }
        }
      },
      "source": [
        "album_info = pd.concat(album_info_list, ignore_index=True)\n",
        "artist_album = pd.concat(artist_album_list, ignore_index=True)"
      ]
    },
    {
      "cell_type": "markdown",
      "metadata": {
        "nteract": {
          "transient": {
            "deleting": false
          }
        }
      },
      "source": [
        "#### **1.2.4.1. Album Info Table**"
      ]
    },
    {
      "cell_type": "code",
      "execution_count": 27,
      "outputs": [
        {
          "output_type": "display_data",
          "data": {
            "application/vnd.livy.statement-meta+json": {
              "spark_pool": "sparkpool",
              "session_id": "6",
              "statement_id": 26,
              "statement_ids": [
                26
              ],
              "state": "finished",
              "livy_statement_state": "available",
              "queued_time": "2024-06-30T00:32:33.5238483Z",
              "session_start_time": null,
              "execution_start_time": "2024-06-30T00:42:48.4568614Z",
              "execution_finish_time": "2024-06-30T00:42:48.6138895Z",
              "spark_jobs": null,
              "parent_msg_id": "2caafe21-c277-4eb2-b183-5c27d6aecb4b"
            },
            "text/plain": "StatementMeta(sparkpool, 6, 26, Finished, Available)"
          },
          "metadata": {}
        }
      ],
      "metadata": {
        "jupyter": {
          "source_hidden": false,
          "outputs_hidden": false
        },
        "nteract": {
          "transient": {
            "deleting": false
          }
        }
      },
      "source": [
        "album_info.drop(album_info[album_info['images'].apply(lambda x: len(x) == 0)].index,\n",
        "                axis=0, inplace=True)\n",
        "album_info['images'] = album_info['images'].apply(lambda x: x[0]['url'])\n",
        "\n",
        "album_info.rename(columns={'id': 'Album_ID',\n",
        "                           'name': 'Album_Name',\n",
        "                           'total_tracks': 'Total_Tracks',\n",
        "                           'album_type': 'Album_Type',\n",
        "                           'release_date': 'Release_Date',\n",
        "                           'images': 'Album_Image',\n",
        "                           'label': 'Label'},\n",
        "                           inplace=True)\n",
        "\n",
        "album_info['Release_Date'] = pd.to_datetime(album_info['Release_Date'], format='%Y-%m-%d')"
      ]
    },
    {
      "cell_type": "markdown",
      "metadata": {
        "nteract": {
          "transient": {
            "deleting": false
          }
        }
      },
      "source": [
        "#### **1.2.4.2. Album Song Table**"
      ]
    },
    {
      "cell_type": "code",
      "execution_count": 28,
      "outputs": [
        {
          "output_type": "display_data",
          "data": {
            "application/vnd.livy.statement-meta+json": {
              "spark_pool": "sparkpool",
              "session_id": "6",
              "statement_id": 27,
              "statement_ids": [
                27
              ],
              "state": "finished",
              "livy_statement_state": "available",
              "queued_time": "2024-06-30T00:32:33.6324943Z",
              "session_start_time": null,
              "execution_start_time": "2024-06-30T00:42:48.7328661Z",
              "execution_finish_time": "2024-06-30T00:43:52.6481441Z",
              "spark_jobs": null,
              "parent_msg_id": "6618babc-462e-4007-a8fc-1feff1c925e8"
            },
            "text/plain": "StatementMeta(sparkpool, 6, 27, Finished, Available)"
          },
          "metadata": {}
        }
      ],
      "metadata": {
        "jupyter": {
          "source_hidden": false,
          "outputs_hidden": false
        },
        "nteract": {
          "transient": {
            "deleting": false
          }
        }
      },
      "source": [
        "album_song.drop_duplicates(inplace=True)\n",
        "album_song.rename(columns={'album.id': 'Album_ID',\n",
        "                           'id': 'Song_ID'}, inplace=True)\n",
        "\n",
        "no_album = []\n",
        "for album in album_song['Album_ID'].tolist():\n",
        "    if album not in album_info['Album_ID'].tolist():\n",
        "        no_album.append(album)\n",
        "\n",
        "album_song.drop(album_song[album_song['Album_ID'].isin(no_album)].index,\n",
        "                axis=0, inplace=True)"
      ]
    },
    {
      "cell_type": "markdown",
      "metadata": {
        "nteract": {
          "transient": {
            "deleting": false
          }
        }
      },
      "source": [
        "#### **1.2.4.3. Artist - Album Table**"
      ]
    },
    {
      "cell_type": "code",
      "execution_count": 29,
      "outputs": [
        {
          "output_type": "display_data",
          "data": {
            "application/vnd.livy.statement-meta+json": {
              "spark_pool": "sparkpool",
              "session_id": "6",
              "statement_id": 28,
              "statement_ids": [
                28
              ],
              "state": "finished",
              "livy_statement_state": "available",
              "queued_time": "2024-06-30T00:32:33.6933146Z",
              "session_start_time": null,
              "execution_start_time": "2024-06-30T00:43:52.7900193Z",
              "execution_finish_time": "2024-06-30T00:43:53.0440234Z",
              "spark_jobs": null,
              "parent_msg_id": "dfd2eb31-e7af-4493-944e-ae814bd3e20c"
            },
            "text/plain": "StatementMeta(sparkpool, 6, 28, Finished, Available)"
          },
          "metadata": {}
        }
      ],
      "metadata": {
        "jupyter": {
          "source_hidden": false,
          "outputs_hidden": false
        },
        "nteract": {
          "transient": {
            "deleting": false
          }
        }
      },
      "source": [
        "artist_album['artists'] = artist_album['artists'].apply(extract_ids)\n",
        "artist_album = artist_album.explode('artists')\n",
        "artist_album.drop_duplicates(inplace=True)\n",
        "artist_album.rename(columns={'id': 'Album_ID',\n",
        "                             'artists': 'Artist_ID'}, inplace=True)"
      ]
    },
    {
      "cell_type": "code",
      "execution_count": 30,
      "outputs": [
        {
          "output_type": "display_data",
          "data": {
            "application/vnd.livy.statement-meta+json": {
              "spark_pool": "sparkpool",
              "session_id": "6",
              "statement_id": 29,
              "statement_ids": [
                29
              ],
              "state": "finished",
              "livy_statement_state": "available",
              "queued_time": "2024-06-30T00:32:33.7286313Z",
              "session_start_time": null,
              "execution_start_time": "2024-06-30T00:43:53.1620925Z",
              "execution_finish_time": "2024-06-30T00:44:20.1795869Z",
              "spark_jobs": null,
              "parent_msg_id": "0fb3ee5f-7711-40d7-b5ce-a870d7cf3d6b"
            },
            "text/plain": "StatementMeta(sparkpool, 6, 29, Finished, Available)"
          },
          "metadata": {}
        }
      ],
      "metadata": {
        "jupyter": {
          "source_hidden": false,
          "outputs_hidden": false
        },
        "nteract": {
          "transient": {
            "deleting": false
          }
        }
      },
      "source": [
        "no_album = []\n",
        "for album in artist_album['Album_ID'].tolist():\n",
        "    if album not in album_info['Album_ID'].tolist():\n",
        "        no_album.append(album)"
      ]
    },
    {
      "cell_type": "code",
      "execution_count": 31,
      "outputs": [
        {
          "output_type": "display_data",
          "data": {
            "application/vnd.livy.statement-meta+json": {
              "spark_pool": "sparkpool",
              "session_id": "6",
              "statement_id": 30,
              "statement_ids": [
                30
              ],
              "state": "finished",
              "livy_statement_state": "available",
              "queued_time": "2024-06-30T00:32:33.7667063Z",
              "session_start_time": null,
              "execution_start_time": "2024-06-30T00:44:20.3027309Z",
              "execution_finish_time": "2024-06-30T00:44:21.3553209Z",
              "spark_jobs": null,
              "parent_msg_id": "433e03af-e97b-4a80-96ea-26c59bc77466"
            },
            "text/plain": "StatementMeta(sparkpool, 6, 30, Finished, Available)"
          },
          "metadata": {}
        }
      ],
      "metadata": {
        "jupyter": {
          "source_hidden": false,
          "outputs_hidden": false
        },
        "nteract": {
          "transient": {
            "deleting": false
          }
        }
      },
      "source": [
        "no_artist = []\n",
        "for artist in artist_album['Artist_ID'].tolist():\n",
        "    if artist not in artist_info['Artist_ID'].tolist():\n",
        "        no_artist.append(artist)"
      ]
    },
    {
      "cell_type": "code",
      "execution_count": 32,
      "outputs": [
        {
          "output_type": "display_data",
          "data": {
            "application/vnd.livy.statement-meta+json": {
              "spark_pool": "sparkpool",
              "session_id": "6",
              "statement_id": 31,
              "statement_ids": [
                31
              ],
              "state": "finished",
              "livy_statement_state": "available",
              "queued_time": "2024-06-30T00:32:33.8391914Z",
              "session_start_time": null,
              "execution_start_time": "2024-06-30T00:44:21.4796991Z",
              "execution_finish_time": "2024-06-30T00:44:21.6325561Z",
              "spark_jobs": null,
              "parent_msg_id": "7a6b1c14-c314-4a11-bc42-8eaa62cfc453"
            },
            "text/plain": "StatementMeta(sparkpool, 6, 31, Finished, Available)"
          },
          "metadata": {}
        }
      ],
      "metadata": {
        "jupyter": {
          "source_hidden": false,
          "outputs_hidden": false
        },
        "nteract": {
          "transient": {
            "deleting": false
          }
        }
      },
      "source": [
        "drop_rows_based_album = artist_album[artist_album['Album_ID'].isin(list(set(no_album)))].index.to_list()\n",
        "drop_rows_based_artist = artist_album[artist_album['Artist_ID'].isin(list(set(no_artist)))].index.to_list()\n",
        "artist_album.drop(drop_rows_based_album, axis=0, inplace=True)\n",
        "artist_album.drop(drop_rows_based_artist, axis=0, inplace=True)"
      ]
    },
    {
      "cell_type": "markdown",
      "metadata": {
        "nteract": {
          "transient": {
            "deleting": false
          }
        }
      },
      "source": [
        "# **2. Exporting Data**"
      ]
    },
    {
      "cell_type": "code",
      "execution_count": 52,
      "outputs": [
        {
          "output_type": "display_data",
          "data": {
            "application/vnd.livy.statement-meta+json": {
              "spark_pool": "sparkpool",
              "session_id": "6",
              "statement_id": 51,
              "statement_ids": [
                51
              ],
              "state": "finished",
              "livy_statement_state": "available",
              "queued_time": "2024-06-30T01:05:22.0386931Z",
              "session_start_time": null,
              "execution_start_time": "2024-06-30T01:05:22.1469888Z",
              "execution_finish_time": "2024-06-30T01:05:24.9143706Z",
              "spark_jobs": null,
              "parent_msg_id": "65e7ed12-0325-47f4-a884-f63cb098cf24"
            },
            "text/plain": "StatementMeta(sparkpool, 6, 51, Finished, Available)"
          },
          "metadata": {}
        }
      ],
      "metadata": {
        "jupyter": {
          "source_hidden": false,
          "outputs_hidden": false
        },
        "nteract": {
          "transient": {
            "deleting": false
          }
        }
      },
      "source": [
        "file_system_name = 'datasets'\n",
        "storage_account_name = 'spotifyprojectadls'\n",
        "adls_path = f\"abfss://{file_system_name}@{storage_account_name}.dfs.core.windows.net/\"\n",
        "\n",
        "top_200_track_daily.to_parquet(adls_path + 'top_200_track_daily.parquet', index=False)\n",
        "song_stream.to_parquet(adls_path + 'song_stream.parquet', index=False)\n",
        "artist_info.to_parquet(adls_path + 'artist_info.parquet', index=False)\n",
        "artist_follower.to_parquet(adls_path + 'artist_follower.parquet', index=False)\n",
        "artist_genres.to_parquet(adls_path + 'artist_genres.parquet', index=False)\n",
        "genres.to_parquet(adls_path + 'genres.parquet', index=False)\n",
        "lead_artist.to_parquet(adls_path + 'lead_artist.parquet', index=False)\n",
        "feature_artist.to_parquet(adls_path + 'feature_artist.parquet', index=False)\n",
        "album_song.to_parquet(adls_path + 'album_song.parquet', index=False)\n",
        "artist_album.to_parquet(adls_path + 'artist_album.parquet', index=False)\n",
        "album_info.to_parquet(adls_path + 'album_info.parquet', index=False)\n",
        "song_info.to_parquet(adls_path + 'song_info.parquet', index=False)"
      ]
    },
    {
      "cell_type": "code",
      "execution_count": null,
      "outputs": [],
      "metadata": {
        "jupyter": {
          "source_hidden": false,
          "outputs_hidden": false
        },
        "nteract": {
          "transient": {
            "deleting": false
          }
        }
      },
      "source": []
    }
  ]
}